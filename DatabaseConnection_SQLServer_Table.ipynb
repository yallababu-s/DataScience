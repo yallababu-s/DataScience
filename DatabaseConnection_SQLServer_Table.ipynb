{
 "cells": [
  {
   "cell_type": "markdown",
   "id": "3c7d7911-f15b-4c31-9c69-d1eebb1c012e",
   "metadata": {
    "id": "3c7d7911-f15b-4c31-9c69-d1eebb1c012e"
   },
   "source": [
    "# **PYODBC - Python Object Database Connection**"
   ]
  },
  {
   "cell_type": "code",
   "execution_count": 1,
   "id": "f5b90d8f-74cd-4e5f-abd2-a2f6a46de30d",
   "metadata": {
    "colab": {
     "base_uri": "https://localhost:8080/"
    },
    "id": "f5b90d8f-74cd-4e5f-abd2-a2f6a46de30d",
    "outputId": "76753d42-262d-4764-d18c-828fe06605f6"
   },
   "outputs": [
    {
     "name": "stdout",
     "output_type": "stream",
     "text": [
      "Requirement already satisfied: pyodbc in c:\\users\\hp\\anaconda3\\lib\\site-packages (4.0.34)\n"
     ]
    }
   ],
   "source": [
    "!pip install pyodbc"
   ]
  },
  {
   "cell_type": "code",
   "execution_count": 2,
   "id": "602de4da-8ade-4e8d-bdf7-5ffa2ccad8c6",
   "metadata": {
    "id": "602de4da-8ade-4e8d-bdf7-5ffa2ccad8c6"
   },
   "outputs": [],
   "source": [
    "import pyodbc as odbc"
   ]
  },
  {
   "cell_type": "code",
   "execution_count": 3,
   "id": "MvFqM3LISZNa",
   "metadata": {
    "colab": {
     "base_uri": "https://localhost:8080/"
    },
    "id": "MvFqM3LISZNa",
    "outputId": "bbac8c29-0ba1-4f9d-82d2-b278902dd9e6"
   },
   "outputs": [
    {
     "name": "stdout",
     "output_type": "stream",
     "text": [
      "Available ODBC Drivers:\n",
      "SQL Server\n",
      "ODBC Driver 17 for SQL Server\n"
     ]
    }
   ],
   "source": [
    "import pyodbc\n",
    "\n",
    "drivers = [driver for driver in pyodbc.drivers()]\n",
    "print(\"Available ODBC Drivers:\")\n",
    "for driver in drivers:\n",
    "    print(driver)"
   ]
  },
  {
   "cell_type": "markdown",
   "id": "18d321d9-c207-40fe-b676-73d62424a536",
   "metadata": {
    "id": "18d321d9-c207-40fe-b676-73d62424a536"
   },
   "source": [
    "**Once, this procedure is completed, we will now establish the connection between the server and the python enviroment**"
   ]
  },
  {
   "cell_type": "code",
   "execution_count": 4,
   "id": "1b5b679e-762c-4f64-b99e-4ff4bb4e8d2a",
   "metadata": {
    "id": "1b5b679e-762c-4f64-b99e-4ff4bb4e8d2a"
   },
   "outputs": [],
   "source": [
    "DRIVER_NAME = 'SQL Server'\n",
    "SERVER_NAME = 'BABUSANAGARI'"
   ]
  },
  {
   "cell_type": "markdown",
   "id": "5a7094e6-0f82-4994-b8e6-ad803031ded0",
   "metadata": {
    "id": "5a7094e6-0f82-4994-b8e6-ad803031ded0"
   },
   "source": [
    "**We are going to establish the connection, so the database name is required**"
   ]
  },
  {
   "cell_type": "code",
   "execution_count": 5,
   "id": "2d6d84a7-b770-4267-8940-416f5ef7681d",
   "metadata": {
    "id": "2d6d84a7-b770-4267-8940-416f5ef7681d"
   },
   "outputs": [],
   "source": [
    "# You need to select the database in which you want work\n",
    "DATABASE_NAME = 'SQLclass1'"
   ]
  },
  {
   "cell_type": "markdown",
   "id": "21fcf46c-c468-41a2-9af9-6edf57ee8559",
   "metadata": {
    "id": "21fcf46c-c468-41a2-9af9-6edf57ee8559"
   },
   "source": [
    "**Let's establish the connection**"
   ]
  },
  {
   "cell_type": "markdown",
   "id": "e0abcb96",
   "metadata": {},
   "source": [
    "# Read Table From SQLSERVER TABLE "
   ]
  },
  {
   "cell_type": "code",
   "execution_count": 6,
   "id": "1bb924b1",
   "metadata": {},
   "outputs": [],
   "source": [
    "connection_string = (\n",
    "    f'DRIVER={{SQL Server}};'\n",
    "    f'SERVER=BABUSANAGARI;'\n",
    "    f'DATABASE=SQLclass1;'\n",
    "    f'Trusted_Connection=yes;'\n",
    "    # f'Trust_Connection=yes;'\n",
    ")"
   ]
  },
  {
   "cell_type": "code",
   "execution_count": 7,
   "id": "f4f678e5",
   "metadata": {},
   "outputs": [],
   "source": [
    "conn = odbc.connect(connection_string)"
   ]
  },
  {
   "cell_type": "code",
   "execution_count": 8,
   "id": "bbc5483d",
   "metadata": {},
   "outputs": [],
   "source": [
    "import warnings\n",
    "warnings.filterwarnings(\"ignore\")"
   ]
  },
  {
   "cell_type": "code",
   "execution_count": 9,
   "id": "fdfe91bf",
   "metadata": {},
   "outputs": [
    {
     "name": "stdout",
     "output_type": "stream",
     "text": [
      "    EMPNO   ENAME        JOB     MGR    HIREDATE     SAL   COMM  DEPTNO\n",
      "0  6540.0  prabha       None     NaN        None     NaN    NaN     NaN\n",
      "1  7499.0   ALLEN   SALESMAN  7698.0  1981-02-20  1600.0  300.0    30.0\n",
      "2  7566.0   JONES    MANAGER  7839.0  1981-04-02  2975.0    NaN    20.0\n",
      "3  7788.0   SCOTT    ANALYST  7566.0  1982-12-09  3000.0    NaN    20.0\n",
      "4  7839.0    KING  PRESIDENT     NaN  1981-11-17  5000.0    NaN    10.0\n",
      "\n",
      "Dataset shape: (6, 8)\n"
     ]
    }
   ],
   "source": [
    "import pyodbc\n",
    "import pandas as pd\n",
    "# SQL query to retrieve data from a table\n",
    "query = \"SELECT * FROM EMP\"  #  'your_table_name'\n",
    "\n",
    "# Load data into a Pandas DataFrame\n",
    "data = pd.read_sql_query(query, conn)\n",
    "\n",
    "# Display the data\n",
    "print(data.head())  # Display the first 5 rows\n",
    "print(\"\\nDataset shape:\", data.shape)  # Print the dataset's shape"
   ]
  },
  {
   "cell_type": "code",
   "execution_count": null,
   "id": "b489d563",
   "metadata": {},
   "outputs": [],
   "source": []
  }
 ],
 "metadata": {
  "colab": {
   "provenance": []
  },
  "kernelspec": {
   "display_name": "Python 3 (ipykernel)",
   "language": "python",
   "name": "python3"
  },
  "language_info": {
   "codemirror_mode": {
    "name": "ipython",
    "version": 3
   },
   "file_extension": ".py",
   "mimetype": "text/x-python",
   "name": "python",
   "nbconvert_exporter": "python",
   "pygments_lexer": "ipython3",
   "version": "3.11.4"
  }
 },
 "nbformat": 4,
 "nbformat_minor": 5
}
