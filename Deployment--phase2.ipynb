{
 "cells": [
  {
   "cell_type": "code",
   "execution_count": 1,
   "id": "e5c77d64",
   "metadata": {
    "scrolled": true
   },
   "outputs": [],
   "source": [
    "#Deployment Phase 2\n",
    "import pickle\n"
   ]
  },
  {
   "cell_type": "code",
   "execution_count": 2,
   "id": "257411ca",
   "metadata": {},
   "outputs": [],
   "source": [
    "import warnings\n",
    "warnings.filterwarnings(\"ignore\")"
   ]
  },
  {
   "cell_type": "code",
   "execution_count": 3,
   "id": "59072a49",
   "metadata": {},
   "outputs": [],
   "source": [
    "#model=pickle.load(open(filename,\"rb\"))\n",
    "# Load the saved model\n",
    "loaded_model = pickle.load(open('best_model_random.sav', 'rb'))"
   ]
  },
  {
   "cell_type": "code",
   "execution_count": 6,
   "id": "0a808cc8",
   "metadata": {},
   "outputs": [],
   "source": [
    "def selectkbest(indep_X,dep_Y,n):\n",
    "        test = SelectKBest(score_func=f_regression, k=n)\n",
    "        fit1= test.fit(indep_X,dep_Y)\n",
    "        # summarize scores       \n",
    "        selectk_features = fit1.transform(indep_X)\n",
    "        return selectk_features"
   ]
  },
  {
   "cell_type": "code",
   "execution_count": 10,
   "id": "0d87858e",
   "metadata": {},
   "outputs": [
    {
     "data": {
      "text/plain": [
       "Index(['R&D Spend', 'Administration', 'Marketing Spend', 'State', 'Profit'], dtype='object')"
      ]
     },
     "execution_count": 10,
     "metadata": {},
     "output_type": "execute_result"
    }
   ],
   "source": [
    "#dataset1=pd.read_csv(\"superstore_reg.csv\",index_col=None)\n",
    "import pandas as  pd\n",
    "dataset1=pd.read_csv(\"50_Startups.csv\",index_col=None)\n",
    "dataset1.columns"
   ]
  },
  {
   "cell_type": "code",
   "execution_count": 12,
   "id": "5227a7c5",
   "metadata": {},
   "outputs": [],
   "source": [
    "#convert yes/no to 1 and 0 and drop repetitive column\n",
    "df2 = dataset1\n",
    "df2 = pd.get_dummies(df2, drop_first=True)\n",
    "df2 = df2.astype(float)\n",
    "#input and output column split\n",
    "indep_X=df2.drop('Profit', axis=1)\n",
    "dep_Y=df2['Profit']"
   ]
  },
  {
   "cell_type": "code",
   "execution_count": 16,
   "id": "dfc10961",
   "metadata": {},
   "outputs": [],
   "source": [
    "from sklearn.feature_selection import SelectKBest\n",
    "from sklearn.feature_selection import f_regression\n",
    "kbest=selectkbest(indep_X,dep_Y,50)       \n",
    "\n",
    "accmlin=[]\n",
    "accsvml=[]\n",
    "accsvmnl=[]\n",
    "accKnr=[]\n",
    "accdes=[]\n",
    "accrf=[]"
   ]
  },
  {
   "cell_type": "code",
   "execution_count": 18,
   "id": "9931c864",
   "metadata": {},
   "outputs": [
    {
     "name": "stdout",
     "output_type": "stream",
     "text": [
      "Predicted Profit: [42089.282 40541.279 40541.279 42089.282 40541.279 42089.282 40541.279\n",
      " 40541.279 42089.282 40541.279 40541.279 40541.279 40541.279 40541.279\n",
      " 40541.279 42089.282 40541.279 42089.282 40541.279 42089.282 40541.279\n",
      " 42089.282 40541.279 40541.279 42089.282 40541.279 40541.279 42089.282\n",
      " 40541.279 42089.282 40541.279 42089.282 40541.279 40541.279 40541.279\n",
      " 42089.282 40541.279 40541.279 42089.282 40541.279 40541.279 40541.279\n",
      " 40541.279 42089.282 40541.279 42089.282 40541.279 40541.279 42089.282\n",
      " 40541.279]\n"
     ]
    }
   ],
   "source": [
    "from sklearn.preprocessing import StandardScaler\n",
    "# prediction\n",
    "new_data = kbest\n",
    "new_data_df = pd.DataFrame(new_data, columns=indep_X.columns)\n",
    "new_data_kbest = selectkbest(new_data_df, dep_Y, 6)   \n",
    "new_data_scaled = StandardScaler().fit_transform(new_data_kbest)  #X_train\n",
    "\n",
    "prediction = loaded_model.predict(new_data_scaled)     #X_train\n",
    "print(\"Predicted Profit:\", prediction)"
   ]
  },
  {
   "cell_type": "code",
   "execution_count": null,
   "id": "f743941c",
   "metadata": {},
   "outputs": [],
   "source": []
  }
 ],
 "metadata": {
  "kernelspec": {
   "display_name": "Python 3 (ipykernel)",
   "language": "python",
   "name": "python3"
  },
  "language_info": {
   "codemirror_mode": {
    "name": "ipython",
    "version": 3
   },
   "file_extension": ".py",
   "mimetype": "text/x-python",
   "name": "python",
   "nbconvert_exporter": "python",
   "pygments_lexer": "ipython3",
   "version": "3.11.4"
  }
 },
 "nbformat": 4,
 "nbformat_minor": 5
}
